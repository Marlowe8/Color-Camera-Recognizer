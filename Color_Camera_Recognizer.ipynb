{
 "cells": [
  {
   "cell_type": "code",
   "execution_count": 1,
   "id": "96296634-41e7-4291-8001-452ad5768144",
   "metadata": {
    "tags": []
   },
   "outputs": [],
   "source": [
    "import cv2\n",
    "import pandas as pd\n",
    "import numpy as np"
   ]
  },
  {
   "cell_type": "code",
   "execution_count": 2,
   "id": "8006f741-3390-4123-98d8-e0afc307bcc9",
   "metadata": {
    "tags": []
   },
   "outputs": [
    {
     "name": "stdout",
     "output_type": "stream",
     "text": [
      "Collected Image.jpg written!\n"
     ]
    }
   ],
   "source": [
    "camera = cv2.VideoCapture(1)\n",
    "\n",
    "if not camera.isOpened():\n",
    "    camera = cv2.VideoCapture(0)\n",
    "if not camera.isOpened():\n",
    "    raise IOError(\"Error 404: Can't find Camera\")\n",
    "\n",
    "# cv2.namedWindow(\"Image Capturer\", cv2.WINDOW_NORMAL)\n",
    "while True:\n",
    "    ret,frame = camera.read()\n",
    "    if not ret:\n",
    "        print(\"Capture Failed\")\n",
    "        break\n",
    "    cv2.imshow(\"Image Capture\",frame)\n",
    "    \n",
    "    key = cv2.waitKey(1)\n",
    "    if key%256 == 27: #Esc to exit\n",
    "        print(\"Exiting...\")\n",
    "        break\n",
    "    elif key%256 == 32: #Spacebar to capture\n",
    "        imageID = \"Collected Image.jpg\"\n",
    "        cv2.imwrite(imageID, frame)\n",
    "        print(\"{} written!\".format(imageID))\n",
    "        break\n",
    "        \n",
    "camera.release()\n",
    "cv2.destroyAllWindows()"
   ]
  },
  {
   "cell_type": "code",
   "execution_count": 3,
   "id": "e949bc10-fbe8-41cc-9ac5-38a0ab0b0efd",
   "metadata": {
    "tags": []
   },
   "outputs": [
    {
     "data": {
      "text/html": [
       "<div>\n",
       "<style scoped>\n",
       "    .dataframe tbody tr th:only-of-type {\n",
       "        vertical-align: middle;\n",
       "    }\n",
       "\n",
       "    .dataframe tbody tr th {\n",
       "        vertical-align: top;\n",
       "    }\n",
       "\n",
       "    .dataframe thead th {\n",
       "        text-align: right;\n",
       "    }\n",
       "</style>\n",
       "<table border=\"1\" class=\"dataframe\">\n",
       "  <thead>\n",
       "    <tr style=\"text-align: right;\">\n",
       "      <th></th>\n",
       "      <th>air_force_blue_raf</th>\n",
       "      <th>Air Force Blue (Raf)</th>\n",
       "      <th>#5d8aa8</th>\n",
       "      <th>93</th>\n",
       "      <th>138</th>\n",
       "      <th>168</th>\n",
       "    </tr>\n",
       "  </thead>\n",
       "  <tbody>\n",
       "    <tr>\n",
       "      <th>0</th>\n",
       "      <td>air_force_blue_usaf</td>\n",
       "      <td>Air Force Blue (Usaf)</td>\n",
       "      <td>#00308f</td>\n",
       "      <td>0</td>\n",
       "      <td>48</td>\n",
       "      <td>143</td>\n",
       "    </tr>\n",
       "    <tr>\n",
       "      <th>1</th>\n",
       "      <td>air_superiority_blue</td>\n",
       "      <td>Air Superiority Blue</td>\n",
       "      <td>#72a0c1</td>\n",
       "      <td>114</td>\n",
       "      <td>160</td>\n",
       "      <td>193</td>\n",
       "    </tr>\n",
       "    <tr>\n",
       "      <th>2</th>\n",
       "      <td>alabama_crimson</td>\n",
       "      <td>Alabama Crimson</td>\n",
       "      <td>#a32638</td>\n",
       "      <td>163</td>\n",
       "      <td>38</td>\n",
       "      <td>56</td>\n",
       "    </tr>\n",
       "    <tr>\n",
       "      <th>3</th>\n",
       "      <td>alice_blue</td>\n",
       "      <td>Alice Blue</td>\n",
       "      <td>#f0f8ff</td>\n",
       "      <td>240</td>\n",
       "      <td>248</td>\n",
       "      <td>255</td>\n",
       "    </tr>\n",
       "    <tr>\n",
       "      <th>4</th>\n",
       "      <td>alizarin_crimson</td>\n",
       "      <td>Alizarin Crimson</td>\n",
       "      <td>#e32636</td>\n",
       "      <td>227</td>\n",
       "      <td>38</td>\n",
       "      <td>54</td>\n",
       "    </tr>\n",
       "  </tbody>\n",
       "</table>\n",
       "</div>"
      ],
      "text/plain": [
       "     air_force_blue_raf   Air Force Blue (Raf)  #5d8aa8   93  138  168\n",
       "0   air_force_blue_usaf  Air Force Blue (Usaf)  #00308f    0   48  143\n",
       "1  air_superiority_blue   Air Superiority Blue  #72a0c1  114  160  193\n",
       "2       alabama_crimson        Alabama Crimson  #a32638  163   38   56\n",
       "3            alice_blue             Alice Blue  #f0f8ff  240  248  255\n",
       "4      alizarin_crimson       Alizarin Crimson  #e32636  227   38   54"
      ]
     },
     "execution_count": 3,
     "metadata": {},
     "output_type": "execute_result"
    }
   ],
   "source": [
    "image = cv2.imread(\"Collected Image.jpg\")\n",
    "pd.read_csv(\"colors.csv\").head()"
   ]
  },
  {
   "cell_type": "code",
   "execution_count": 4,
   "id": "29636c27-6602-4223-bb6e-bc30525dbae5",
   "metadata": {
    "tags": []
   },
   "outputs": [],
   "source": [
    "onClick = False\n",
    "r = g = b = xpos = ypos = 0\n",
    "index = [\"color\", \"color_name\", \"hex\", \"R\", \"G\", \"B\"]\n",
    "Colorcsv = pd.read_csv(\"colors.csv\",names=index, header= None)"
   ]
  },
  {
   "cell_type": "code",
   "execution_count": 5,
   "id": "0de5f9cb-bcbc-431a-9997-c8838f7b1737",
   "metadata": {
    "tags": []
   },
   "outputs": [],
   "source": [
    "def getColorName(R,G,B):\n",
    "    minimum = 10000\n",
    "    for i in range (len(Colorcsv)):\n",
    "        data = abs(R - int(Colorcsv.loc[i, \"R\"])) + abs(G - int(Colorcsv.loc[i, \"G\"])) + abs(B - int(Colorcsv.loc[i, \"B\"]))\n",
    "        if data <= minimum: \n",
    "            minimum = data\n",
    "            cname = Colorcsv.loc[i,\"color_name\"]\n",
    "    return cname"
   ]
  },
  {
   "cell_type": "code",
   "execution_count": 6,
   "id": "d6cd3f26-675b-4660-b564-74b71e718b4b",
   "metadata": {
    "tags": []
   },
   "outputs": [],
   "source": [
    "def leftOnClick (event, x, y, flags, param):\n",
    "    if event == cv2.EVENT_LBUTTONDBLCLK:\n",
    "        global b, g, r, xpos, ypos, onClick\n",
    "        onClick = True\n",
    "        xpos = x \n",
    "        ypos = y\n",
    "        b,g,r = image[y,x]\n",
    "        b = int(b)\n",
    "        g = int(g)\n",
    "        r = int(r)"
   ]
  },
  {
   "cell_type": "code",
   "execution_count": 7,
   "id": "fb5afff0-82d5-49f0-8e89-a0e99f28ac78",
   "metadata": {
    "tags": []
   },
   "outputs": [],
   "source": [
    "cv2.namedWindow('image')\n",
    "cv2.setMouseCallback('image', leftOnClick)\n",
    "\n",
    "while True:\n",
    "    cv2.imshow(\"image\", image)\n",
    "    if onClick:\n",
    "        cv2.rectangle(image,(20, 20), (750, 60), (b, g, r), -1)\n",
    "        text = getColorName(r, g, b) + ' R=' + str(r) + ' G=' + str(g) + ' B=' + str(b)\n",
    "        cv2.putText(image, text, (50, 50), 2, 0.8, (255, 255, 255), 2, cv2.LINE_AA)\n",
    "        if r + g + b >= 600:\n",
    "            cv2.putText(image, text, (50, 50), 2, 0.8, (0, 0, 0), 2, cv2.LINE_AA)\n",
    "        onClick = False\n",
    "        \n",
    "    if cv2.waitKey(20) & 0xFF == 27:\n",
    "        break\n",
    "\n",
    "cv2.destroyAllWindows()"
   ]
  },
  {
   "cell_type": "code",
   "execution_count": null,
   "id": "8ae311b7-9a3b-4ab0-87ea-0fbdcb438508",
   "metadata": {},
   "outputs": [],
   "source": []
  }
 ],
 "metadata": {
  "kernelspec": {
   "display_name": "Python 3 (ipykernel)",
   "language": "python",
   "name": "python3"
  },
  "language_info": {
   "codemirror_mode": {
    "name": "ipython",
    "version": 3
   },
   "file_extension": ".py",
   "mimetype": "text/x-python",
   "name": "python",
   "nbconvert_exporter": "python",
   "pygments_lexer": "ipython3",
   "version": "3.11.4"
  }
 },
 "nbformat": 4,
 "nbformat_minor": 5
}
